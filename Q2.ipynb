{
 "cells": [
  {
   "attachments": {},
   "cell_type": "markdown",
   "metadata": {},
   "source": [
    "**Assumptions:** Since the Radius of the Star is not given in the Question, I have assumed that the distance of the dust particle (d) >> Radius of The Star. Hence, the distance of the dust particle from the centre of the star is approximated to be \"d\"."
   ]
  },
  {
   "attachments": {},
   "cell_type": "markdown",
   "metadata": {},
   "source": [
    "**(a)** To find the required ratio R, we calculate $F_{g}$ and $F_{r}$ individually and then divide them.<br><br>\n",
    "$F_{g}$ = $GM \\rho (Volume) \\over d^{2}$   $\\hspace{1cm}$   [By Newton's Law of Gravitation, G = Universal Gravitational Constant]<br><br>\n",
    "$F_{g}$ = $GM \\rho (4 \\pi r^{3}) \\over 3d^{2}$<br><br>\n",
    "$F_{r}$ = $kP_{r} \\pi r^{2}$<br><br>\n",
    "Given: \"k = 1\" and $P_{r}$ = $L \\over 4 \\pi d^{2} c$<br>\n",
    "So, the above equation becomes:<br><br>\n",
    "$F_{r}$ = $Lr^{2} \\over 4cd^{2}$<br><br>\n",
    "Now, According to the Question:<br><br>\n",
    "Ratio (R) = $Gravitational \\hspace{0.05cm} Force \\hspace{0.05cm} (F_{g}) \\over Force \\hspace{0.05cm} due \\hspace{0.05cm} to \\hspace{0.05cm} Radiation \\hspace{0.05cm} Pressure \\hspace{0.05cm} (F_{r})$<br><br>\n",
    "Ratio (R) = $16 GM \\pi r \\rho c \\over 3L$ $\\hspace{1cm}$ [G has been specified above, other variables and constants taken as per the question.]<br><br>"
   ]
  },
  {
   "attachments": {},
   "cell_type": "markdown",
   "metadata": {},
   "source": [
    "**(b)** From Bit (a) and by using the given values, $R = 1$ and $\\rho = 1000 kg/m^{3}$ :<br><br>\n",
    "$r_{0}$ $=$ $3L \\over 16000 \\pi cGM$<br><br>\n",
    "Putting $c = 3$ x $10^{5} \\hspace{0.05cm} km/s,$ $G = 6.67$ x $10^{-11} \\hspace{0.05cm} m^{3}kg^{-1}s^{-2}$ :<br><br>\n",
    "$r_{0}$ $=$ $9.375L \\over \\pi M$<br><br>\n",
    "Assuming $\\pi = 3.14,$ $L = 3.83$ x $10^{26}$ Watts and $M = 2$ x $10^{30}$ kg to get a numerical value of $r_{0}$ :<br><br>\n",
    "$r_{0}$ $=$ $5.72$ x $10^{-4}$ m<br><br>"
   ]
  },
  {
   "attachments": {},
   "cell_type": "markdown",
   "metadata": {},
   "source": [
    "**(c)** As given in the Question, Tangential Component of Force due to Radiation Pressue ($|F_{r-tangential}|$) $\\approx$ $v|F_{r}| \\over c$<br>\n",
    "The distance of dust particle from the star = d<br>\n",
    "So, torque ($\\tau$) due to radiative drag = $d|F_{r-tangential}|$ $\\hspace{1cm}$ [Since the radius vector **d** and $F_{r-tangential}$ are perpendicular]<br>\n",
    "Therefore, $\\tau =$ $vd|F_{r}| \\over c$"
   ]
  },
  {
   "attachments": {},
   "cell_type": "markdown",
   "metadata": {},
   "source": [
    "**(d)** It is quite trivial that the Radiative drag decreases the Velocity of the dust particle which causes it to spiral inward into the star.<br>\n",
    "We can mathematically use the Torque on the dust particle to show the decrease in the Angular Momentum of the particle.<br><br>\n",
    "Now, we can write: $\\tau =$ $dL \\over dt$<br>\n",
    "$L = mvd$ ;<br> where m = mass of the dust particle, v = instantaneous velocity of the dust particle and d = Instantaneous Radius of the Quasi-static Circular orbit of the dust particle<br>\n",
    "To avoid confusion later, I am taking $\"d\"$ as $\"a\"$ now on.<br><br>\n",
    "Now, $\\tau = mv$ $da \\over dt$ $+ ma$ $dv \\over dt$<br>\n",
    "Since it is given that the orbit of the dust particle can be considered to be Quasi-static,<br>\n",
    "$da \\over dt$ can be taken to be $0$<br>\n",
    "Equation now becomes: $\\tau = ma$ $dv \\over dt$<br>\n",
    "From bit **(a)** and bit **(c)**, We have: $\\tau =$ $vd|F_{r}| \\over c$ and $F_{r}$ = $Lr^{2} \\over 4ca^{2}$;<br>\n",
    "It gives: $|\\tau| =$ $vLr^{2} \\over 4c^{2}a$<br><br>\n",
    "We get: $vLr^{2} \\over 4c^{2}a$ $= ma$ $dv \\over dt$<br>\n",
    "Since the centripetal force is very small but is still provided by difference between $F_{g}$ and $F_{r}$, $v^{2} \\alpha$ $K \\over a^{2}$<br>\n",
    "Replacing this in above differential equation we get: $-Lr^{2} \\over 2c^{2}$ $=$ $da \\over dt$<br>\n",
    "Now, we integrate and put limits of \"a\" from initial distance \"d\" to \"$0$\" and of time from \"$0$\" to Final time (t).<br>\n",
    "We get: $t =$ $2c^{2}d \\over Lr^{2}$; Where $t =$ time taken by the dust particle to spiral into the star.<br><br>\n",
    "To get $t$ in terms of $d$, we put $c = 3$ x $10^{8}$ m/s, $r = 5.72$ x $10^{-4}$ m, $L = 3.83$ x $10^{26}$;<br>\n",
    "$t \\approx 1.436$ x $10^{-3}d$ (in seconds)<br><br>\n",
    "To get a numerical value of \"$t$\"m we put $d = 150 billion metres$,<br>\n",
    "Therefore $t = 2.145$ x $10^{8}$ seconds $\\approx 68 \\hspace{0.1cm} years$"
   ]
  }
 ],
 "metadata": {
  "kernelspec": {
   "display_name": "Python 3",
   "language": "python",
   "name": "python3"
  },
  "language_info": {
   "name": "python",
   "version": "3.11.2"
  },
  "orig_nbformat": 4,
  "vscode": {
   "interpreter": {
    "hash": "5238573367df39f7286bb46f9ff5f08f63a01a80960060ce41e3c79b190280fa"
   }
  }
 },
 "nbformat": 4,
 "nbformat_minor": 2
}
